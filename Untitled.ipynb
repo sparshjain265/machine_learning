{
 "cells": [
  {
   "cell_type": "code",
   "execution_count": 23,
   "metadata": {},
   "outputs": [],
   "source": [
    "from sklearn import linear_model\n",
    "import numpy as np\n",
    "import matplotlib.pyplot as plt\n",
    "from sklearn.model_selection import train_test_split\n",
    "from sklearn.preprocessing import PolynomialFeatures"
   ]
  },
  {
   "cell_type": "code",
   "execution_count": 36,
   "metadata": {},
   "outputs": [],
   "source": [
    "data = []\n",
    "with open('PDBbind2015_refined-core.dat', 'r') as f:\n",
    "    d = f.readline()\n",
    "    d = f.readlines()\n",
    "    for i in d:\n",
    "        k = i.strip().split()\n",
    "        data.append([float(i) for i in k]) \n",
    "data = np.array(data)\n",
    "X = data[:, [2, 3, 4, 5, 6]]\n",
    "Y = data.transpose()[0]\n",
    "X_train , X_test , Y_train , Y_test = train_test_split(X , Y, random_state = 0)\n"
   ]
  },
  {
   "cell_type": "code",
   "execution_count": 37,
   "metadata": {},
   "outputs": [
    {
     "name": "stdout",
     "output_type": "stream",
     "text": [
      "(2436, 21)\n"
     ]
    }
   ],
   "source": [
    "poly = PolynomialFeatures (degree = 2)\n",
    "poly.fit (X_train)\n",
    "X_train_poly = poly.transform(X_train)\n",
    "X_test_poly = poly.transform(X_test)\n",
    "print (X_train_poly.shape)\n"
   ]
  },
  {
   "cell_type": "code",
   "execution_count": 38,
   "metadata": {},
   "outputs": [
    {
     "name": "stdout",
     "output_type": "stream",
     "text": [
      "0.3463072942588259\n",
      "0.33081555346228464\n",
      "0.5758366417993327\n"
     ]
    }
   ],
   "source": [
    "OLSR = linear_model.LinearRegression(normalize = True)\n",
    "OLSR.fit(X_train_poly, Y_train)\n",
    "w1 = OLSR.coef_\n",
    "#y1 = X.dot(w1)\n",
    "print(OLSR.score(X_train_poly, Y_train))\n",
    "print(OLSR.score(X_test_poly, Y_test))\n",
    "print (np.corrcoef (OLSR.predict(X_test_poly) , Y_test )[0 , 1])"
   ]
  },
  {
   "cell_type": "code",
   "execution_count": 39,
   "metadata": {},
   "outputs": [
    {
     "name": "stdout",
     "output_type": "stream",
     "text": [
      "0.001\n",
      "0.3459300246250271\n",
      "0.3346134943201658\n",
      "0.5786953608326956\n"
     ]
    }
   ],
   "source": [
    "Ridge = linear_model.RidgeCV(normalize = True, alphas = [0.0001, 0.0003, 0.001, 0.003, 0.01, 0.03, 0.1, 0.3, 1, 3, 10])\n",
    "Ridge.fit(X_train_poly, Y_train)\n",
    "a2 = Ridge.alpha_\n",
    "w2 = Ridge.coef_\n",
    "#y2 = X.dot(w2)\n",
    "print(a2)\n",
    "print(Ridge.score(X_train_poly, Y_train))\n",
    "print(Ridge.score(X_test_poly, Y_test))\n",
    "print(np.corrcoef(Ridge.predict(X_test_poly), Y_test)[0, 1])"
   ]
  },
  {
   "cell_type": "code",
   "execution_count": 40,
   "metadata": {},
   "outputs": [
    {
     "name": "stdout",
     "output_type": "stream",
     "text": [
      "2.639995046879327e-05\n",
      "0.34571835688340125\n",
      "0.33454506110695337\n",
      "0.5786370179113022\n"
     ]
    }
   ],
   "source": [
    "Lasso = linear_model.LassoCV(normalize=True, max_iter=100000)\n",
    "Lasso.fit(X_train_poly, Y_train)\n",
    "a3 = Lasso.alpha_\n",
    "w3 = Lasso.coef_\n",
    "#y3 = X.dot(w3)\n",
    "print(a3)\n",
    "print(Lasso.score(X_train_poly, Y_train))\n",
    "print(Lasso.score(X_test_poly, Y_test))\n",
    "print (np.corrcoef (Lasso.predict(X_test_poly) , Y_test )[0 , 1])"
   ]
  },
  {
   "cell_type": "code",
   "execution_count": 41,
   "metadata": {},
   "outputs": [
    {
     "name": "stdout",
     "output_type": "stream",
     "text": [
      "-0.41315761755834507\n"
     ]
    }
   ],
   "source": [
    "print(np.corrcoef (X[:, 0], Y)[0, 1])"
   ]
  },
  {
   "cell_type": "code",
   "execution_count": null,
   "metadata": {},
   "outputs": [],
   "source": []
  },
  {
   "cell_type": "code",
   "execution_count": null,
   "metadata": {},
   "outputs": [],
   "source": []
  },
  {
   "cell_type": "code",
   "execution_count": null,
   "metadata": {},
   "outputs": [],
   "source": []
  }
 ],
 "metadata": {
  "kernelspec": {
   "display_name": "Python 3",
   "language": "python",
   "name": "python3"
  },
  "language_info": {
   "codemirror_mode": {
    "name": "ipython",
    "version": 3
   },
   "file_extension": ".py",
   "mimetype": "text/x-python",
   "name": "python",
   "nbconvert_exporter": "python",
   "pygments_lexer": "ipython3",
   "version": "3.6.5"
  }
 },
 "nbformat": 4,
 "nbformat_minor": 2
}

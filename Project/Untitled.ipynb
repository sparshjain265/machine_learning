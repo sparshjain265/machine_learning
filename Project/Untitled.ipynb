{
 "cells": [
  {
   "cell_type": "code",
   "execution_count": 1,
   "metadata": {},
   "outputs": [],
   "source": [
    "import os\n",
    "import cv2\n",
    "import numpy as np\n",
    "import matplotlib.pyplot as plt\n",
    "from sklearn import cluster"
   ]
  },
  {
   "cell_type": "code",
   "execution_count": 2,
   "metadata": {},
   "outputs": [],
   "source": [
    "def saveImage (img , title, fileName):\n",
    "\tfig = plt.figure(figsize = (10 , 10))\n",
    "\tplt.imshow(img)\n",
    "\tplt.title (title)\n",
    "\tfig.savefig('Agglomerative/' + fileName)\n",
    "\tplt.close(fig)"
   ]
  },
  {
   "cell_type": "code",
   "execution_count": 5,
   "metadata": {},
   "outputs": [],
   "source": [
    "def applyAgg(i):\n",
    "\t#read the image\n",
    "\tprint(\"Reading image: \" + i)\n",
    "\timgBGR = cv2.imread('image/' + i)\n",
    "\timgRGB = cv2.cvtColor(imgBGR, cv2.COLOR_BGR2RGB)\n",
    "\t# scale down for faster computation\n",
    "\tscale_percent = 40 # percent of original size\n",
    "\twidth = int(imgRGB.shape[1] * scale_percent / 100)\n",
    "\theight = int(imgRGB.shape[0] * scale_percent / 100)\n",
    "\tdim = (width, height)\n",
    "\timg = cv2.resize(imgRGB, dim, interpolation = cv2.INTER_AREA)\n",
    "\timage = np.copy (img)\n",
    "\tsaveImage(image, \"resized\", i)\n",
    "\t\n",
    "\t#use median blur to remove salt noise\n",
    "\timage1 = cv2.medianBlur(image, 5)\n",
    "\n",
    "\t# reshape from 3D RBG to 2D\n",
    "\t# pImage means processed image\n",
    "\tpImage = image1.reshape((-1, 3))\n",
    "\n",
    "\tfor n in [2, 3, 4, 5]:\n",
    "\t\tprint(\"Applying Agglomerative Clustering with \" + str(n) + \" clusters\")\n",
    "\t\tc = cluster.AgglomerativeClustering(n_clusters=[n, n+1])\n",
    "\t\tc.fit(pImage)\n",
    "\t\tlabels = c.labels_\n",
    "\t\tcenters = np.zeros((n, 3))\n",
    "\t\tfor j in range(n):\n",
    "\t\t\tcenters[j] = np.mean(pImage[labels == j], axis=0)\n",
    "\t\toutput = centers[labels].reshape(image.shape)\n",
    "\t\tprint(\"Saving the result\")\n",
    "\t\tsaveImage(output/255, \"Agglomerative Clustering with \" + str(n) + \" clusters\", i + \"n=\" + str(n) + \".png\")"
   ]
  },
  {
   "cell_type": "code",
   "execution_count": null,
   "metadata": {},
   "outputs": [],
   "source": [
    "a = ['247085.jpg', '189011.jpg', '208078.jpg']\n",
    "for i in a:\n",
    "    applyAgg(i)"
   ]
  },
  {
   "cell_type": "code",
   "execution_count": null,
   "metadata": {},
   "outputs": [
    {
     "name": "stdout",
     "output_type": "stream",
     "text": [
      "Reading image: 35058.jpg\n",
      "Applying Agglomerative Clustering with 2 clusters\n",
      "Saving the result\n",
      "Applying Agglomerative Clustering with 3 clusters\n",
      "Saving the result\n",
      "Applying Agglomerative Clustering with 4 clusters\n",
      "Saving the result\n",
      "Applying Agglomerative Clustering with 5 clusters\n",
      "Saving the result\n",
      "Reading image: 35070.jpg\n",
      "Applying Agglomerative Clustering with 2 clusters\n"
     ]
    }
   ],
   "source": [
    "a = ['35058.jpg', '35070.jpg', '41006.jpg']\n",
    "for i in a:\n",
    "    applyAgg(i)"
   ]
  },
  {
   "cell_type": "code",
   "execution_count": 6,
   "metadata": {},
   "outputs": [
    {
     "name": "stdout",
     "output_type": "stream",
     "text": [
      "Reading image: 35058.jpg\n",
      "Applying Agglomerative Clustering with 2 clusters\n"
     ]
    },
    {
     "ename": "TypeError",
     "evalue": "'<=' not supported between instances of 'list' and 'int'",
     "output_type": "error",
     "traceback": [
      "\u001b[0;31m---------------------------------------------------------------------------\u001b[0m",
      "\u001b[0;31mTypeError\u001b[0m                                 Traceback (most recent call last)",
      "\u001b[0;32m<ipython-input-6-1142f8da7232>\u001b[0m in \u001b[0;36m<module>\u001b[0;34m()\u001b[0m\n\u001b[0;32m----> 1\u001b[0;31m \u001b[0mapplyAgg\u001b[0m\u001b[0;34m(\u001b[0m\u001b[0;34m'35058.jpg'\u001b[0m\u001b[0;34m)\u001b[0m\u001b[0;34m\u001b[0m\u001b[0m\n\u001b[0m",
      "\u001b[0;32m<ipython-input-5-921fcdcb36e0>\u001b[0m in \u001b[0;36mapplyAgg\u001b[0;34m(i)\u001b[0m\n\u001b[1;32m     23\u001b[0m                 \u001b[0mprint\u001b[0m\u001b[0;34m(\u001b[0m\u001b[0;34m\"Applying Agglomerative Clustering with \"\u001b[0m \u001b[0;34m+\u001b[0m \u001b[0mstr\u001b[0m\u001b[0;34m(\u001b[0m\u001b[0mn\u001b[0m\u001b[0;34m)\u001b[0m \u001b[0;34m+\u001b[0m \u001b[0;34m\" clusters\"\u001b[0m\u001b[0;34m)\u001b[0m\u001b[0;34m\u001b[0m\u001b[0m\n\u001b[1;32m     24\u001b[0m                 \u001b[0mc\u001b[0m \u001b[0;34m=\u001b[0m \u001b[0mcluster\u001b[0m\u001b[0;34m.\u001b[0m\u001b[0mAgglomerativeClustering\u001b[0m\u001b[0;34m(\u001b[0m\u001b[0mn_clusters\u001b[0m\u001b[0;34m=\u001b[0m\u001b[0;34m[\u001b[0m\u001b[0mn\u001b[0m\u001b[0;34m,\u001b[0m \u001b[0mn\u001b[0m\u001b[0;34m+\u001b[0m\u001b[0;36m1\u001b[0m\u001b[0;34m]\u001b[0m\u001b[0;34m)\u001b[0m\u001b[0;34m\u001b[0m\u001b[0m\n\u001b[0;32m---> 25\u001b[0;31m                 \u001b[0mc\u001b[0m\u001b[0;34m.\u001b[0m\u001b[0mfit\u001b[0m\u001b[0;34m(\u001b[0m\u001b[0mpImage\u001b[0m\u001b[0;34m)\u001b[0m\u001b[0;34m\u001b[0m\u001b[0m\n\u001b[0m\u001b[1;32m     26\u001b[0m                 \u001b[0mlabels\u001b[0m \u001b[0;34m=\u001b[0m \u001b[0mc\u001b[0m\u001b[0;34m.\u001b[0m\u001b[0mlabels_\u001b[0m\u001b[0;34m\u001b[0m\u001b[0m\n\u001b[1;32m     27\u001b[0m                 \u001b[0mcenters\u001b[0m \u001b[0;34m=\u001b[0m \u001b[0mnp\u001b[0m\u001b[0;34m.\u001b[0m\u001b[0mzeros\u001b[0m\u001b[0;34m(\u001b[0m\u001b[0;34m(\u001b[0m\u001b[0mn\u001b[0m\u001b[0;34m,\u001b[0m \u001b[0;36m3\u001b[0m\u001b[0;34m)\u001b[0m\u001b[0;34m)\u001b[0m\u001b[0;34m\u001b[0m\u001b[0m\n",
      "\u001b[0;32m~/anaconda3/lib/python3.6/site-packages/sklearn/cluster/hierarchical.py\u001b[0m in \u001b[0;36mfit\u001b[0;34m(self, X, y)\u001b[0m\n\u001b[1;32m    785\u001b[0m         \u001b[0mmemory\u001b[0m \u001b[0;34m=\u001b[0m \u001b[0mcheck_memory\u001b[0m\u001b[0;34m(\u001b[0m\u001b[0mself\u001b[0m\u001b[0;34m.\u001b[0m\u001b[0mmemory\u001b[0m\u001b[0;34m)\u001b[0m\u001b[0;34m\u001b[0m\u001b[0m\n\u001b[1;32m    786\u001b[0m \u001b[0;34m\u001b[0m\u001b[0m\n\u001b[0;32m--> 787\u001b[0;31m         \u001b[0;32mif\u001b[0m \u001b[0mself\u001b[0m\u001b[0;34m.\u001b[0m\u001b[0mn_clusters\u001b[0m \u001b[0;34m<=\u001b[0m \u001b[0;36m0\u001b[0m\u001b[0;34m:\u001b[0m\u001b[0;34m\u001b[0m\u001b[0m\n\u001b[0m\u001b[1;32m    788\u001b[0m             raise ValueError(\"n_clusters should be an integer greater than 0.\"\n\u001b[1;32m    789\u001b[0m                              \" %s was provided.\" % str(self.n_clusters))\n",
      "\u001b[0;31mTypeError\u001b[0m: '<=' not supported between instances of 'list' and 'int'"
     ]
    }
   ],
   "source": [
    "applyAgg('35058.jpg')"
   ]
  },
  {
   "cell_type": "code",
   "execution_count": null,
   "metadata": {},
   "outputs": [],
   "source": []
  }
 ],
 "metadata": {
  "kernelspec": {
   "display_name": "Python 3",
   "language": "python",
   "name": "python3"
  },
  "language_info": {
   "codemirror_mode": {
    "name": "ipython",
    "version": 3
   },
   "file_extension": ".py",
   "mimetype": "text/x-python",
   "name": "python",
   "nbconvert_exporter": "python",
   "pygments_lexer": "ipython3",
   "version": "3.6.6"
  }
 },
 "nbformat": 4,
 "nbformat_minor": 2
}
